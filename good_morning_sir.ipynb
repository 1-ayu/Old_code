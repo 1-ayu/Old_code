{
 "cells": [
  {
   "cell_type": "code",
   "execution_count": 3,
   "metadata": {},
   "outputs": [
    {
     "name": "stdout",
     "output_type": "stream",
     "text": [
      "19\n"
     ]
    }
   ],
   "source": [
    "import time\n",
    "t= time.strftime('%H:%M:%S')\n",
    "hour =int(time.strftime('%H'))\n",
    "print(hour)"
   ]
  },
  {
   "cell_type": "code",
   "execution_count": 10,
   "metadata": {},
   "outputs": [
    {
     "name": "stdout",
     "output_type": "stream",
     "text": [
      "19 33 32\n",
      "Good morning sir\n"
     ]
    }
   ],
   "source": [
    "import time\n",
    "t= time.strftime('%H:%M:%S')\n",
    "hour =int(time.strftime('%H'))\n",
    "min=int(time.strftime('%M'))\n",
    "sec =int(time.strftime('%S'))\n",
    "print(hour,min,sec)\n",
    "if(hour>0 & hour<12):\n",
    "    print(\"Good morning sir\")\n",
    "elif(hour>=12 and hour<12):\n",
    "    print('Good Afternoon sir')\n",
    "elif(hour>=17 and hour<0):\n",
    "    print(\"Good night sir\")"
   ]
  },
  {
   "cell_type": "code",
   "execution_count": null,
   "metadata": {},
   "outputs": [],
   "source": []
  }
 ],
 "metadata": {
  "kernelspec": {
   "display_name": "Python 3",
   "language": "python",
   "name": "python3"
  },
  "language_info": {
   "codemirror_mode": {
    "name": "ipython",
    "version": 3
   },
   "file_extension": ".py",
   "mimetype": "text/x-python",
   "name": "python",
   "nbconvert_exporter": "python",
   "pygments_lexer": "ipython3",
   "version": "3.11.5"
  }
 },
 "nbformat": 4,
 "nbformat_minor": 2
}
