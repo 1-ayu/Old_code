{
 "cells": [
  {
   "cell_type": "markdown",
   "metadata": {},
   "source": [
    "Manipulating Tuples:\n",
    "\n",
    "Tuples are immutable, hence if you want to add, remove or change tuple items,then first you must convert the tuple to a list. Then perform operation on that list and convert it back to tuple."
   ]
  },
  {
   "cell_type": "markdown",
   "metadata": {},
   "source": [
    "It can be done indirectly means first it has to be converted into list then edit it and then again change it to tuple.\n"
   ]
  },
  {
   "cell_type": "code",
   "execution_count": 1,
   "metadata": {},
   "outputs": [
    {
     "name": "stdout",
     "output_type": "stream",
     "text": [
      "('Spain', 'Italy', 'Finland', 'Germany', 'Russia')\n"
     ]
    }
   ],
   "source": [
    "# Ex.\n",
    "countries =(\"Spain\",\"Italy\",\"India\",\"England\",\"Germany\")\n",
    "temp =list(countries)\n",
    "temp.append(\"Russia\")         #add item\n",
    "temp.pop(3)                   #remove item\n",
    "temp[2]=\"Finland\"             #change item\n",
    "countries  = tuple(temp)\n",
    "print(countries)"
   ]
  },
  {
   "cell_type": "code",
   "execution_count": 4,
   "metadata": {},
   "outputs": [
    {
     "name": "stdout",
     "output_type": "stream",
     "text": [
      "('Aayush', 'Rohan', 'Zishan', 'Sonal', 'Roshan')\n"
     ]
    }
   ],
   "source": [
    "name =(\"Aayush\",\"Rohan\",\"Zishan\",\"Harsh\",\"zayn\")\n",
    "a=list(name)\n",
    "a.append(\"Roshan\")\n",
    "a.pop(3)\n",
    "a[3]=\"Sonal\"\n",
    "name =tuple(a)\n",
    "print(name)"
   ]
  },
  {
   "cell_type": "code",
   "execution_count": 8,
   "metadata": {},
   "outputs": [
    {
     "name": "stdout",
     "output_type": "stream",
     "text": [
      "('Pakistan', 'Afghanistan', 'Bangladesh', 'Sri lanka', 'Vietnam', 'India', ' China')\n"
     ]
    }
   ],
   "source": [
    "# concatenation\n",
    "countries =(\"Pakistan\", \"Afghanistan\", \"Bangladesh\", \"Sri lanka\")\n",
    "countries2 =(\"Vietnam\",\"India\",\" China\")\n",
    "southEastAsia =countries + countries2\n",
    "print(southEastAsia)"
   ]
  },
  {
   "cell_type": "code",
   "execution_count": 12,
   "metadata": {},
   "outputs": [
    {
     "name": "stdout",
     "output_type": "stream",
     "text": [
      "Count of 3 in tuple is : 4\n"
     ]
    }
   ],
   "source": [
    "tuple1 = (0,0,1,1,3,4,5,4,4,5,3,5,3,2,4,1,4,5,3)\n",
    "res =tuple1.count(3)\n",
    "print('Count of 3 in tuple is :', res)"
   ]
  },
  {
   "cell_type": "markdown",
   "metadata": {},
   "source": [
    "Index() Method :\n",
    "\n",
    "The index() method returns the first occurrence of the given element from the tuple.\n",
    "\n",
    "Syntax: \n",
    " \n",
    "- tuple.index(element, start , end)\n",
    "\n"
   ]
  },
  {
   "cell_type": "markdown",
   "metadata": {},
   "source": [
    "Note: This method raises a ValueError if the element is not found in the tuple."
   ]
  },
  {
   "cell_type": "code",
   "execution_count": 1,
   "metadata": {},
   "outputs": [],
   "source": [
    "tuple1 = (0,0,1,1,3,4,5,4,4,5,3,5,3,2,4,1,4,5,3)\n",
    "# res =tuple1.count(3)\n",
    "res = tuple1.index(4)\n",
    "# print('Count of 3 in tuple is :', res)"
   ]
  },
  {
   "cell_type": "code",
   "execution_count": 15,
   "metadata": {},
   "outputs": [
    {
     "data": {
      "text/plain": [
       "5"
      ]
     },
     "execution_count": 15,
     "metadata": {},
     "output_type": "execute_result"
    }
   ],
   "source": [
    "tuple1.index(4)"
   ]
  },
  {
   "cell_type": "code",
   "execution_count": 6,
   "metadata": {},
   "outputs": [],
   "source": [
    "res=len(tuple1)\n"
   ]
  },
  {
   "cell_type": "code",
   "execution_count": 7,
   "metadata": {},
   "outputs": [
    {
     "name": "stdout",
     "output_type": "stream",
     "text": [
      "19\n"
     ]
    }
   ],
   "source": [
    "print(res)"
   ]
  },
  {
   "cell_type": "code",
   "execution_count": 8,
   "metadata": {},
   "outputs": [],
   "source": [
    "res=tuple1.index(5)"
   ]
  },
  {
   "cell_type": "code",
   "execution_count": 9,
   "metadata": {},
   "outputs": [
    {
     "name": "stdout",
     "output_type": "stream",
     "text": [
      "6\n"
     ]
    }
   ],
   "source": [
    "print(res)"
   ]
  },
  {
   "cell_type": "code",
   "execution_count": null,
   "metadata": {},
   "outputs": [],
   "source": []
  }
 ],
 "metadata": {
  "kernelspec": {
   "display_name": "Python 3",
   "language": "python",
   "name": "python3"
  },
  "language_info": {
   "codemirror_mode": {
    "name": "ipython",
    "version": 3
   },
   "file_extension": ".py",
   "mimetype": "text/x-python",
   "name": "python",
   "nbconvert_exporter": "python",
   "pygments_lexer": "ipython3",
   "version": "3.11.5"
  }
 },
 "nbformat": 4,
 "nbformat_minor": 2
}
