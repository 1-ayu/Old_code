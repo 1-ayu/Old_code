{
 "cells": [
  {
   "cell_type": "code",
   "execution_count": 28,
   "metadata": {},
   "outputs": [],
   "source": [
    "import threading\n",
    "import time\n",
    "from concurrent.futures import ThreadPoolExecutor"
   ]
  },
  {
   "cell_type": "code",
   "execution_count": 34,
   "metadata": {},
   "outputs": [],
   "source": [
    "# Indicates some task being done\n",
    "def func(seconds):\n",
    "    print(f\"sleeping for {seconds} seconds\")\n",
    "    time.sleep(seconds)\n",
    "    return seconds"
   ]
  },
  {
   "cell_type": "code",
   "execution_count": 13,
   "metadata": {},
   "outputs": [
    {
     "name": "stdout",
     "output_type": "stream",
     "text": [
      "sleeping for 1 seconds\n",
      "sleeping for 2 seconds\n",
      "sleeping for 3 seconds\n",
      "6.001886800000648\n"
     ]
    }
   ],
   "source": [
    "time1 = time.perf_counter()\n",
    "\n",
    "# Normal code\n",
    "func(1)\n",
    "func(2)\n",
    "func(3)\n",
    "\n",
    "time2 = time.perf_counter()\n",
    "print(time2-time1)"
   ]
  },
  {
   "cell_type": "code",
   "execution_count": 26,
   "metadata": {},
   "outputs": [],
   "source": [
    "# Same code using Threads\n",
    "\n",
    "t1= threading.Thread(target = func, args=[1])\n",
    "t2= threading.Thread(target = func, args=[2])\n",
    "t3= threading.Thread(target = func, args=[3])\n",
    "\n",
    "\n"
   ]
  },
  {
   "cell_type": "code",
   "execution_count": 24,
   "metadata": {},
   "outputs": [
    {
     "name": "stdout",
     "output_type": "stream",
     "text": [
      "sleeping for 1 seconds\n",
      "sleeping for 2 seconds\n",
      "sleeping for 3 seconds\n",
      "0.010409299999992072\n"
     ]
    }
   ],
   "source": [
    "time3 = time.perf_counter()\n",
    "\n",
    "t1.start()\n",
    "\n",
    "t2.start()\n",
    "\n",
    "t3.start()\n",
    "\n",
    "\n",
    "time4 = time.perf_counter()\n",
    "print(time4-time3)"
   ]
  },
  {
   "cell_type": "markdown",
   "metadata": {},
   "source": [
    "The difference between the Normal code and code using thread is 6-0.02 = 5.98 \n",
    "\n",
    "As you can see above"
   ]
  },
  {
   "cell_type": "markdown",
   "metadata": {},
   "source": [
    "Now if we use join() function so that every line first get executed then only go to another line then the time will take a little longer than usual while using threads "
   ]
  },
  {
   "cell_type": "markdown",
   "metadata": {},
   "source": [
    "For example:"
   ]
  },
  {
   "cell_type": "code",
   "execution_count": 27,
   "metadata": {},
   "outputs": [
    {
     "name": "stdout",
     "output_type": "stream",
     "text": [
      "sleeping for 1 seconds\n",
      "sleeping for 2 seconds\n",
      "sleeping for 3 seconds\n",
      "3.0084968999999546\n"
     ]
    }
   ],
   "source": [
    "time3 = time.perf_counter()\n",
    "\n",
    "t1.start()\n",
    "\n",
    "t2.start()\n",
    "\n",
    "t3.start()\n",
    "\n",
    "t1.join()\n",
    "t2.join()\n",
    "t3.join()\n",
    "\n",
    "time4 = time.perf_counter()\n",
    "print(time4-time3)"
   ]
  },
  {
   "cell_type": "code",
   "execution_count": 32,
   "metadata": {},
   "outputs": [
    {
     "name": "stdout",
     "output_type": "stream",
     "text": [
      "sleeping for 3 seconds\n",
      "sleeping for 2 seconds\n",
      "sleeping for 1 seconds\n",
      "<bound method Future.result of <Future at 0x2cc65688950 state=running>>\n",
      "<bound method Future.result of <Future at 0x2cc65688d50 state=running>>\n",
      "<bound method Future.result of <Future at 0x2cc6572b750 state=running>>\n"
     ]
    }
   ],
   "source": [
    "def poolingDemo():\n",
    "    with ThreadPoolExecutor() as executer:\n",
    "        future1 = executer.submit(func,3)\n",
    "        future2 = executer.submit(func,2)\n",
    "        future3 = executer.submit(func,1)\n",
    "        print(future1.result)\n",
    "        print(future2.result)\n",
    "        print(future3.result)\n",
    "    \n",
    "poolingDemo()"
   ]
  },
  {
   "cell_type": "markdown",
   "metadata": {},
   "source": [
    "Same thing using map function"
   ]
  },
  {
   "cell_type": "code",
   "execution_count": 36,
   "metadata": {},
   "outputs": [
    {
     "name": "stdout",
     "output_type": "stream",
     "text": [
      "sleeping for 3 seconds\n",
      "sleeping for 5 seconds\n",
      "sleeping for 6 seconds\n",
      "sleeping for 3 seconds\n",
      "3\n",
      "5\n",
      "6\n",
      "3\n"
     ]
    }
   ],
   "source": [
    "def poolingDemo():\n",
    "    with ThreadPoolExecutor() as executer:\n",
    "        l=[3, 5, 6, 3]\n",
    "        results = executer.map(func, l)\n",
    "        for result in results:\n",
    "            print(result)\n",
    "\n",
    "poolingDemo()"
   ]
  },
  {
   "cell_type": "code",
   "execution_count": null,
   "metadata": {},
   "outputs": [],
   "source": []
  }
 ],
 "metadata": {
  "kernelspec": {
   "display_name": "Python 3",
   "language": "python",
   "name": "python3"
  },
  "language_info": {
   "codemirror_mode": {
    "name": "ipython",
    "version": 3
   },
   "file_extension": ".py",
   "mimetype": "text/x-python",
   "name": "python",
   "nbconvert_exporter": "python",
   "pygments_lexer": "ipython3",
   "version": "3.11.5"
  }
 },
 "nbformat": 4,
 "nbformat_minor": 2
}
