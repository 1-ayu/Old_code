{
 "cells": [
  {
   "cell_type": "markdown",
   "metadata": {},
   "source": [
    "Function Arguments and Return Statements:\n",
    "\n",
    "There are four types of arguments that we can provide in a function:\n",
    "- Default Arguments \n",
    "- Keyword Arguments\n",
    "- Variable length Arguments\n",
    "- Required Arguments"
   ]
  },
  {
   "cell_type": "markdown",
   "metadata": {},
   "source": [
    "Default Arguments:\n",
    "\n",
    "We can provide a default value while creating a function. This way the function assumes a defaullt value even if a value is not provided in the function call for that argument."
   ]
  },
  {
   "cell_type": "code",
   "execution_count": 5,
   "metadata": {},
   "outputs": [
    {
     "name": "stdout",
     "output_type": "stream",
     "text": [
      "Hello, Amy john Watson\n"
     ]
    }
   ],
   "source": [
    "# Ex.\n",
    "def name(fname, mname =\"john\", lname=\"Watson\"):\n",
    "    print(\"Hello,\" ,fname,mname,lname)\n",
    "\n",
    "name(\"Amy\")"
   ]
  },
  {
   "cell_type": "code",
   "execution_count": 3,
   "metadata": {},
   "outputs": [],
   "source": [
    "def average(a,b):\n",
    "    print(\"The average is \",(a+b)/2)"
   ]
  },
  {
   "cell_type": "code",
   "execution_count": 4,
   "metadata": {},
   "outputs": [
    {
     "name": "stdout",
     "output_type": "stream",
     "text": [
      "The average is  48.5\n"
     ]
    }
   ],
   "source": [
    "average(88,9)"
   ]
  },
  {
   "cell_type": "markdown",
   "metadata": {},
   "source": [
    "Keyword Arguments :\n",
    "\n",
    "We can provide arguments with key=value, this way the interpreter recognizes the arguments by the parameter name. Hence, the order in which the arguments are passed does not matter."
   ]
  },
  {
   "cell_type": "code",
   "execution_count": 4,
   "metadata": {},
   "outputs": [],
   "source": [
    "def average1(b,a):\n",
    "    c=a+b\n",
    "    "
   ]
  },
  {
   "cell_type": "code",
   "execution_count": 6,
   "metadata": {},
   "outputs": [],
   "source": [
    "average1(3,4)"
   ]
  },
  {
   "cell_type": "markdown",
   "metadata": {},
   "source": [
    "Required Arguments:\n",
    "\n",
    "In case we don't pass the argument with a key=value  syntax, then it is necesaary to pass the arguments in the current positional order and the number of arguments passed should match with actual function definition.\n",
    "\n",
    "Example 1- When number of arguments passed does not match to the actual function definition."
   ]
  },
  {
   "cell_type": "code",
   "execution_count": 7,
   "metadata": {},
   "outputs": [
    {
     "ename": "TypeError",
     "evalue": "name() missing 1 required positional argument: 'lname'",
     "output_type": "error",
     "traceback": [
      "\u001b[1;31m---------------------------------------------------------------------------\u001b[0m",
      "\u001b[1;31mTypeError\u001b[0m                                 Traceback (most recent call last)",
      "\u001b[1;32md:\\code with harry python\\function_arguments.ipynb Cell 10\u001b[0m line \u001b[0;36m4\n\u001b[0;32m      <a href='vscode-notebook-cell:/d%3A/code%20with%20harry%20python/function_arguments.ipynb#X11sZmlsZQ%3D%3D?line=0'>1</a>\u001b[0m \u001b[39mdef\u001b[39;00m \u001b[39mname\u001b[39m(fname,mname,lname):\n\u001b[0;32m      <a href='vscode-notebook-cell:/d%3A/code%20with%20harry%20python/function_arguments.ipynb#X11sZmlsZQ%3D%3D?line=1'>2</a>\u001b[0m     \u001b[39mprint\u001b[39m(\u001b[39m\"\u001b[39m\u001b[39mHello,\u001b[39m\u001b[39m\"\u001b[39m, fname,mname,lname)\n\u001b[1;32m----> <a href='vscode-notebook-cell:/d%3A/code%20with%20harry%20python/function_arguments.ipynb#X11sZmlsZQ%3D%3D?line=3'>4</a>\u001b[0m name(\u001b[39m\"\u001b[39;49m\u001b[39mPeter\u001b[39;49m\u001b[39m\"\u001b[39;49m,\u001b[39m\"\u001b[39;49m\u001b[39mQuill\u001b[39;49m\u001b[39m\"\u001b[39;49m)\n",
      "\u001b[1;31mTypeError\u001b[0m: name() missing 1 required positional argument: 'lname'"
     ]
    }
   ],
   "source": [
    "def name(fname,mname,lname):\n",
    "    print(\"Hello,\", fname,mname,lname)\n",
    "\n",
    "name(\"Peter\",\"Quill\")"
   ]
  },
  {
   "cell_type": "code",
   "execution_count": 8,
   "metadata": {},
   "outputs": [
    {
     "name": "stdout",
     "output_type": "stream",
     "text": [
      "Hello, Peter eggs Quill\n"
     ]
    }
   ],
   "source": [
    "def name(fname,mname,lname):\n",
    "    print(\"Hello,\", fname,mname,lname)\n",
    "\n",
    "name(\"Peter\",\"eggs\",\"Quill\")"
   ]
  },
  {
   "cell_type": "code",
   "execution_count": 9,
   "metadata": {},
   "outputs": [],
   "source": [
    "def average(a,b,c=1):\n",
    "    print(\"The average is \", (a+b+c)/2)"
   ]
  },
  {
   "cell_type": "code",
   "execution_count": 10,
   "metadata": {},
   "outputs": [
    {
     "name": "stdout",
     "output_type": "stream",
     "text": [
      "The average is  3.5\n"
     ]
    }
   ],
   "source": [
    "average(2,4)"
   ]
  },
  {
   "cell_type": "markdown",
   "metadata": {},
   "source": [
    "Variable-length Arguments:\n",
    "\n",
    "Sometimes we may need to pass more arguments than those defined in the actual function. This can be done using variable length arguments.\n",
    "\n",
    "There are two ways to achieve  this:\n",
    "\n",
    "Arbitrary Arguments:\n",
    "\n",
    "While creating a function , pass a * before the parameter name while defining the function. The function accesses the arguments by processing them in the form of tuple."
   ]
  },
  {
   "cell_type": "code",
   "execution_count": 12,
   "metadata": {},
   "outputs": [
    {
     "name": "stdout",
     "output_type": "stream",
     "text": [
      "The average is  9.0\n"
     ]
    }
   ],
   "source": [
    "def average1(*numbers):\n",
    "    sum=0\n",
    "    for i in numbers:\n",
    "        sum=sum+i\n",
    "        print(\"Average is :\", sum/len(numbers))\n",
    "\n",
    "average(5,6,7)"
   ]
  },
  {
   "cell_type": "markdown",
   "metadata": {},
   "source": [
    "Key Arbitrary Arguments:\n",
    "\n",
    "While creating a function, pass a*before the parameter name while defining the function. The function accesses the arguments by processing them in the form of dictionary."
   ]
  },
  {
   "cell_type": "code",
   "execution_count": 14,
   "metadata": {},
   "outputs": [
    {
     "name": "stdout",
     "output_type": "stream",
     "text": [
      "<class 'dict'>\n",
      "Hello, James Buchanan Barnes\n"
     ]
    }
   ],
   "source": [
    "def name(**name):\n",
    "    print(type(name))\n",
    "    print(\"Hello,\", name[\"fname\"],name[\"mname\"],name[\"lname\"])\n",
    "\n",
    "name(mname=\"Buchanan\",lname=\"Barnes\",fname =\"James\")"
   ]
  },
  {
   "cell_type": "code",
   "execution_count": 26,
   "metadata": {},
   "outputs": [],
   "source": [
    "def average(*numbers):\n",
    "    sum=0\n",
    "    for i in numbers:\n",
    "        sum=sum+i\n",
    "        # return 8\n",
    "        return sum/len(numbers)\n",
    "    c = average(5,6,7)\n",
    "    print(c)"
   ]
  },
  {
   "cell_type": "code",
   "execution_count": null,
   "metadata": {},
   "outputs": [],
   "source": []
  }
 ],
 "metadata": {
  "kernelspec": {
   "display_name": "Python 3",
   "language": "python",
   "name": "python3"
  },
  "language_info": {
   "codemirror_mode": {
    "name": "ipython",
    "version": 3
   },
   "file_extension": ".py",
   "mimetype": "text/x-python",
   "name": "python",
   "nbconvert_exporter": "python",
   "pygments_lexer": "ipython3",
   "version": "3.11.5"
  }
 },
 "nbformat": 4,
 "nbformat_minor": 2
}
