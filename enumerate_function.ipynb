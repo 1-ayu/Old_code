{
 "cells": [
  {
   "cell_type": "markdown",
   "metadata": {},
   "source": [
    "Enumerate function in python:\n",
    "\n",
    "The enumerate function is a built-in function in python that allows you loop over a sequence(such as a list, tuple or string) and get the index and value of each elements in the sequence at the same time. Here's a basic example of how it works:\n"
   ]
  },
  {
   "cell_type": "code",
   "execution_count": 3,
   "metadata": {},
   "outputs": [
    {
     "name": "stdout",
     "output_type": "stream",
     "text": [
      "0 apple\n",
      "1 banana\n",
      "2 mango\n"
     ]
    }
   ],
   "source": [
    "# loop over a list and print index and value of each element\n",
    "\n",
    "fruits=['apple','banana','mango']\n",
    "for index, fruit in enumerate(fruits):\n",
    "    print(index, fruit)"
   ]
  },
  {
   "cell_type": "code",
   "execution_count": 3,
   "metadata": {},
   "outputs": [
    {
     "name": "stdout",
     "output_type": "stream",
     "text": [
      "0 ayush\n",
      "1 aarti\n",
      "2 kirti\n"
     ]
    }
   ],
   "source": [
    "a=('ayush','aarti','kirti')\n",
    "for i, k in enumerate(a):\n",
    "    print(i,k)"
   ]
  },
  {
   "cell_type": "markdown",
   "metadata": {},
   "source": [
    "As you can see, the enumerate function  returns a tuple containing the index and value of each element in the sequence. You can use the for loop to unpack these tuples and assign them to variables, as shown in the example above."
   ]
  },
  {
   "cell_type": "code",
   "execution_count": 6,
   "metadata": {},
   "outputs": [
    {
     "name": "stdout",
     "output_type": "stream",
     "text": [
      "0 a\n",
      "1 y\n",
      "2 u\n",
      "3 s\n",
      "4 h\n",
      "5 r\n",
      "6 a\n",
      "7 j\n",
      "8 k\n",
      "9 a\n",
      "10 r\n",
      "11 a\n",
      "12 n\n"
     ]
    }
   ],
   "source": [
    "a=(\"ayushrajkaran\")\n",
    "for index, i in enumerate(a):\n",
    "    print(index,i)"
   ]
  },
  {
   "cell_type": "code",
   "execution_count": 15,
   "metadata": {},
   "outputs": [
    {
     "name": "stdout",
     "output_type": "stream",
     "text": [
      "12\n",
      "56\n",
      "32\n",
      "99\n",
      "Harry, Awesome!\n",
      "43\n",
      "23\n",
      "55\n",
      "22\n",
      "56\n"
     ]
    }
   ],
   "source": [
    "marks=[12,56,32,99,43,23,55,22,56]\n",
    "index=0\n",
    "for index,mark in enumerate(marks):\n",
    "    print(mark)\n",
    "    if (index == 3):\n",
    "        print(\"Harry, Awesome!\")\n",
    "    "
   ]
  },
  {
   "cell_type": "markdown",
   "metadata": {},
   "source": [
    "Changing the start index:\n",
    "\n",
    "By default, the enumerate function starts the index at 0, but you can specify a different starting index by passing it as an argument to the enumerate function:"
   ]
  },
  {
   "cell_type": "code",
   "execution_count": 16,
   "metadata": {},
   "outputs": [
    {
     "name": "stdout",
     "output_type": "stream",
     "text": [
      "1 apple\n",
      "2 banana\n",
      "3 mango\n"
     ]
    }
   ],
   "source": [
    "# loop over a list and print the index (starting at 1) and value of each element\n",
    "\n",
    "fruits=['apple', 'banana', 'mango']\n",
    "for index, fruit in enumerate(fruits,start=1):\n",
    "    print(index,fruit)"
   ]
  },
  {
   "cell_type": "markdown",
   "metadata": {},
   "source": [
    "The enumerate function is often used when you need to loop over a sequence and perform some action with both the index and value of each element. For example, you might use it to loop over a list of strings and print the index and value of each string in a formatted way:"
   ]
  },
  {
   "cell_type": "code",
   "execution_count": 8,
   "metadata": {},
   "outputs": [
    {
     "name": "stdout",
     "output_type": "stream",
     "text": [
      "1: apple\n",
      "2: banana\n",
      "3: mango\n"
     ]
    }
   ],
   "source": [
    "fruits=['apple', 'banana', 'mango']\n",
    "for index, fruit in enumerate(fruits):\n",
    "    print(f'{index+1}: {fruit}')"
   ]
  },
  {
   "cell_type": "code",
   "execution_count": 22,
   "metadata": {},
   "outputs": [
    {
     "name": "stdout",
     "output_type": "stream",
     "text": [
      "0 ayush\n",
      "1 aryan\n",
      "2 arhan\n"
     ]
    }
   ],
   "source": [
    "a=['ayush','aryan','arhan']\n",
    "for index, i in enumerate(a):\n",
    "    print(index,i)"
   ]
  },
  {
   "cell_type": "code",
   "execution_count": 37,
   "metadata": {},
   "outputs": [
    {
     "name": "stdout",
     "output_type": "stream",
     "text": [
      "apple\n",
      "banana\n",
      "banana Get out\n",
      "mango\n"
     ]
    }
   ],
   "source": [
    "a=['apple', 'banana', 'mango']\n",
    "index=0\n",
    "for index, i in enumerate(a):\n",
    "    print(i)\n",
    "    if (index==1):\n",
    "        print(i,\"Get out\")\n"
   ]
  },
  {
   "cell_type": "code",
   "execution_count": 9,
   "metadata": {},
   "outputs": [
    {
     "name": "stdout",
     "output_type": "stream",
     "text": [
      "India\n",
      "Paistan\n",
      "Paistan Labrador Dog\n",
      "New Jersey\n",
      "Istanbul\n"
     ]
    }
   ],
   "source": [
    "system=[\"India\",\"Paistan\",\"New Jersey\",\"Istanbul\"]\n",
    "for index,i in enumerate(system):\n",
    "    print(i)\n",
    "    if(index==1):\n",
    "        print(i,\"Labrador Dog\")"
   ]
  },
  {
   "cell_type": "code",
   "execution_count": null,
   "metadata": {},
   "outputs": [],
   "source": []
  }
 ],
 "metadata": {
  "kernelspec": {
   "display_name": "Python 3",
   "language": "python",
   "name": "python3"
  },
  "language_info": {
   "codemirror_mode": {
    "name": "ipython",
    "version": 3
   },
   "file_extension": ".py",
   "mimetype": "text/x-python",
   "name": "python",
   "nbconvert_exporter": "python",
   "pygments_lexer": "ipython3",
   "version": "3.11.5"
  }
 },
 "nbformat": 4,
 "nbformat_minor": 2
}
