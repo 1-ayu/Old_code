{
 "cells": [
  {
   "cell_type": "markdown",
   "metadata": {},
   "source": [
    "Exception Hnadling \n",
    "\n",
    "Exception handling is the process of responding to unwanted or unexpected events when a computer program runs. Exception handling deals with these events to avoid the program or system crashing, and without this process, exceptions would disrupt the normal operation of a program."
   ]
  },
  {
   "cell_type": "markdown",
   "metadata": {},
   "source": [
    "Exception in Python\n",
    "\n",
    "Python has many built-in exceptions that are raised when your program encounters an error(something in the program goes wrong).\n",
    "\n",
    "When these exceptions occur, the Python interpreter stops the current process and passes it to the calling process until it is handled. If not handled the program will crash."
   ]
  },
  {
   "cell_type": "code",
   "execution_count": 1,
   "metadata": {},
   "outputs": [
    {
     "name": "stdout",
     "output_type": "stream",
     "text": [
      "Multiplication table of 5 is: \n",
      "5 X  1 = 5\n",
      "5 X  2 = 10\n",
      "5 X  3 = 15\n",
      "5 X  4 = 20\n",
      "5 X  5 = 25\n",
      "5 X  6 = 30\n",
      "5 X  7 = 35\n",
      "5 X  8 = 40\n",
      "5 X  9 = 45\n",
      "5 X  10 = 50\n"
     ]
    }
   ],
   "source": [
    "a= input(\"Enter the number: \")\n",
    "print(f\"Multiplication table of {a} is: \")\n",
    "for i in range(1,11):\n",
    "    print(f\"{int(a)} X  {i} = {int(a)*i}\")"
   ]
  },
  {
   "cell_type": "code",
   "execution_count": 2,
   "metadata": {},
   "outputs": [
    {
     "name": "stdout",
     "output_type": "stream",
     "text": [
      "Multiplication table of harry is: \n"
     ]
    },
    {
     "ename": "ValueError",
     "evalue": "invalid literal for int() with base 10: 'harry'",
     "output_type": "error",
     "traceback": [
      "\u001b[1;31m---------------------------------------------------------------------------\u001b[0m",
      "\u001b[1;31mValueError\u001b[0m                                Traceback (most recent call last)",
      "Cell \u001b[1;32mIn[2], line 4\u001b[0m\n\u001b[0;32m      2\u001b[0m \u001b[38;5;28mprint\u001b[39m(\u001b[38;5;124mf\u001b[39m\u001b[38;5;124m\"\u001b[39m\u001b[38;5;124mMultiplication table of \u001b[39m\u001b[38;5;132;01m{\u001b[39;00ma\u001b[38;5;132;01m}\u001b[39;00m\u001b[38;5;124m is: \u001b[39m\u001b[38;5;124m\"\u001b[39m)\n\u001b[0;32m      3\u001b[0m \u001b[38;5;28;01mfor\u001b[39;00m i \u001b[38;5;129;01min\u001b[39;00m \u001b[38;5;28mrange\u001b[39m(\u001b[38;5;241m1\u001b[39m,\u001b[38;5;241m11\u001b[39m):\n\u001b[1;32m----> 4\u001b[0m     \u001b[38;5;28mprint\u001b[39m(\u001b[38;5;124mf\u001b[39m\u001b[38;5;124m\"\u001b[39m\u001b[38;5;132;01m{\u001b[39;00m\u001b[38;5;28;43mint\u001b[39;49m\u001b[43m(\u001b[49m\u001b[43ma\u001b[49m\u001b[43m)\u001b[49m\u001b[38;5;132;01m}\u001b[39;00m\u001b[38;5;124m X  \u001b[39m\u001b[38;5;132;01m{\u001b[39;00mi\u001b[38;5;132;01m}\u001b[39;00m\u001b[38;5;124m = \u001b[39m\u001b[38;5;132;01m{\u001b[39;00m\u001b[38;5;28mint\u001b[39m(a)\u001b[38;5;241m*\u001b[39mi\u001b[38;5;132;01m}\u001b[39;00m\u001b[38;5;124m\"\u001b[39m)\n",
      "\u001b[1;31mValueError\u001b[0m: invalid literal for int() with base 10: 'harry'"
     ]
    }
   ],
   "source": [
    "a= input(\"Enter the number: \")\n",
    "print(f\"Multiplication table of {a} is: \")\n",
    "for i in range(1,11):\n",
    "    print(f\"{int(a)} X  {i} = {int(a)*i}\")"
   ]
  },
  {
   "cell_type": "markdown",
   "metadata": {},
   "source": [
    "In simple words,An exception is given to a particular code in which we know that the error may occured but we want that error to be neglected and the next line should be run after ignoring the invalid code which might not harm the whole program.\n",
    "\n",
    "Lets take an example:"
   ]
  },
  {
   "cell_type": "code",
   "execution_count": 3,
   "metadata": {},
   "outputs": [
    {
     "name": "stdout",
     "output_type": "stream",
     "text": [
      "Multiplication table of 22 is: \n",
      "22 X  1 = 22\n",
      "22 X  2 = 44\n",
      "22 X  3 = 66\n",
      "22 X  4 = 88\n",
      "22 X  5 = 110\n",
      "22 X  6 = 132\n",
      "22 X  7 = 154\n",
      "22 X  8 = 176\n",
      "22 X  9 = 198\n",
      "22 X  10 = 220\n",
      "This line will run any how no matter in the above code there is any fault\n",
      "End of program\n"
     ]
    }
   ],
   "source": [
    "a= input(\"Enter the number: \")\n",
    "print(f\"Multiplication table of {a} is: \")\n",
    "try:\n",
    "    for i in range(1,11):\n",
    "        print(f\"{int(a)} X  {i} = {int(a)*i}\")\n",
    "except Exception as e:\n",
    "    print(\"Some error occured\")\n",
    "\n",
    "print(\"This line will run any how no matter in the above code there is any fault\")\n",
    "print(\"End of program\")"
   ]
  },
  {
   "cell_type": "code",
   "execution_count": 4,
   "metadata": {},
   "outputs": [
    {
     "name": "stdout",
     "output_type": "stream",
     "text": [
      "Multiplication table of ayush is: \n",
      "Some error occured\n",
      "This line will run any how no matter in the above code there is any fault\n",
      "End of program\n"
     ]
    }
   ],
   "source": [
    "a= input(\"Enter the number: \")\n",
    "print(f\"Multiplication table of {a} is: \")\n",
    "try:\n",
    "    for i in range(1,11):\n",
    "        print(f\"{int(a)} X  {i} = {int(a)*i}\")\n",
    "except Exception as e:\n",
    "    print(\"Some error occured\")\n",
    "\n",
    "print(\"This line will run any how no matter in the above code there is any fault\")\n",
    "print(\"End of program\")"
   ]
  },
  {
   "cell_type": "markdown",
   "metadata": {},
   "source": [
    "In the above program it is can easily be seen that there is the error but it didn't affect the whole program.\n",
    "This is how the exception works"
   ]
  },
  {
   "cell_type": "code",
   "execution_count": 5,
   "metadata": {},
   "outputs": [
    {
     "name": "stdout",
     "output_type": "stream",
     "text": [
      "Number is not an interger\n"
     ]
    }
   ],
   "source": [
    "try:\n",
    "    num=int(input(\"enter the number\"))\n",
    "    a=[1,3,4]\n",
    "    print(a[num])\n",
    "except ValueError:\n",
    "    print(\"Number is not an interger\")\n",
    "except IndexError:\n",
    "    print(\"Index error\")"
   ]
  },
  {
   "cell_type": "code",
   "execution_count": 6,
   "metadata": {},
   "outputs": [
    {
     "name": "stdout",
     "output_type": "stream",
     "text": [
      "Index error\n"
     ]
    }
   ],
   "source": [
    "try:\n",
    "    num=int(input(\"enter the number\"))\n",
    "    a=[1,3,4]\n",
    "    print(a[num])\n",
    "except ValueError:\n",
    "    print(\"Number is not an interger\")\n",
    "except IndexError:\n",
    "    print(\"Index error\")"
   ]
  },
  {
   "cell_type": "code",
   "execution_count": 9,
   "metadata": {},
   "outputs": [
    {
     "name": "stdout",
     "output_type": "stream",
     "text": [
      "Number is not an interger\n"
     ]
    }
   ],
   "source": [
    "try:\n",
    "    num=int(input(\"enter the number\"))\n",
    "    a=[1,3,4]\n",
    "    print(a[num])\n",
    "except ValueError:\n",
    "    print(\"Number is not an interger\")\n",
    "except IndexError:\n",
    "    print(\"Index error\")\n",
    "except BufferError:\n",
    "    print(\"This will give an error\")"
   ]
  },
  {
   "cell_type": "code",
   "execution_count": 28,
   "metadata": {},
   "outputs": [
    {
     "name": "stdout",
     "output_type": "stream",
     "text": [
      "\n",
      "\n",
      "\n",
      "\n",
      "\n"
     ]
    }
   ],
   "source": [
    "def pypart(n):\n",
    "    for i in range(0,n):\n",
    "        for j in range(5,i-1):\n",
    "            print(\"*\", end=\"\")\n",
    "        print(\"\\r\")\n",
    "n=5\n",
    "pypart(n)\n",
    "    "
   ]
  },
  {
   "cell_type": "markdown",
   "metadata": {},
   "source": [
    "rough practice"
   ]
  },
  {
   "cell_type": "code",
   "execution_count": 21,
   "metadata": {},
   "outputs": [
    {
     "name": "stdout",
     "output_type": "stream",
     "text": [
      "\n",
      "*\n",
      "**\n",
      "***\n",
      "****\n"
     ]
    }
   ],
   "source": [
    "def pypart(n):\n",
    "    for i in range(0,n):\n",
    "        for j in range(1,i+1):\n",
    "            print(\"*\", end=\"\")\n",
    "        print(\"\\r\")\n",
    "n=5\n",
    "pypart(n)"
   ]
  },
  {
   "cell_type": "code",
   "execution_count": 40,
   "metadata": {},
   "outputs": [
    {
     "name": "stdout",
     "output_type": "stream",
     "text": [
      "[1, 3, 4, 5, True]\n"
     ]
    }
   ],
   "source": [
    "l=[1,2,3,4,5,True]\n",
    "l.pop(True)\n",
    "print(l)\n",
    "# pop remove the index which is given in the function"
   ]
  },
  {
   "cell_type": "code",
   "execution_count": 33,
   "metadata": {},
   "outputs": [
    {
     "name": "stdout",
     "output_type": "stream",
     "text": [
      "[2, 3, 4, 5, True]\n"
     ]
    }
   ],
   "source": [
    "l=[1,2,3,4,5,True]\n",
    "l.remove(True)\n",
    "print(l)"
   ]
  },
  {
   "cell_type": "markdown",
   "metadata": {},
   "source": [
    "floor division takes the lesser integer of the given output which is -7 lesser than -6.5"
   ]
  },
  {
   "cell_type": "code",
   "execution_count": 44,
   "metadata": {},
   "outputs": [
    {
     "data": {
      "text/plain": [
       "-7"
      ]
     },
     "execution_count": 44,
     "metadata": {},
     "output_type": "execute_result"
    }
   ],
   "source": [
    "-13//2 "
   ]
  },
  {
   "cell_type": "code",
   "execution_count": null,
   "metadata": {},
   "outputs": [],
   "source": []
  }
 ],
 "metadata": {
  "kernelspec": {
   "display_name": "Python 3",
   "language": "python",
   "name": "python3"
  },
  "language_info": {
   "codemirror_mode": {
    "name": "ipython",
    "version": 3
   },
   "file_extension": ".py",
   "mimetype": "text/x-python",
   "name": "python",
   "nbconvert_exporter": "python",
   "pygments_lexer": "ipython3",
   "version": "3.11.5"
  }
 },
 "nbformat": 4,
 "nbformat_minor": 2
}
