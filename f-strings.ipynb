{
 "cells": [
  {
   "cell_type": "markdown",
   "metadata": {},
   "source": [
    "String formatting in python:\n",
    "\n",
    "String formatting can be done in python using the formal method.\n",
    "\n",
    "txt = \"For only {price:2f} dollars!\"\n",
    "\n",
    "print(txt.format(price = 49))"
   ]
  },
  {
   "cell_type": "markdown",
   "metadata": {},
   "source": [
    "f-strings in python\n",
    "\n",
    "It is a new string formatting mechanism introduced by the PEP 498. It is also known as literal String Interpolation or more commonly as F-strings(f character preceeding the string literal). The primary focus of this mechanism is to make the interpolation easier.\n",
    "\n",
    "When we prefix the string with the letter 'f', the string becomes the f-string itself. The f-string can be formatted in much same as the str.format() method. The f-string offers a convenient way to embed Python expression inside string literals for formatting.\n",
    "\n",
    "NOTE: Interpolation means insertion of new characters"
   ]
  },
  {
   "cell_type": "code",
   "execution_count": 6,
   "metadata": {},
   "outputs": [],
   "source": [
    "# letter=\"Hey my name is {0} and I am from {1}\"\n",
    "# country= \"India\"\n",
    "# name= \"Aayush\"\n",
    "letter=\"Hey my name is {1} and I am from {0}\"\n",
    "country= \"India\"\n",
    "name= \"Aayush\"\n"
   ]
  },
  {
   "cell_type": "code",
   "execution_count": 4,
   "metadata": {},
   "outputs": [
    {
     "name": "stdout",
     "output_type": "stream",
     "text": [
      "Hey my name is India and I am from Aayush\n"
     ]
    }
   ],
   "source": [
    "print(letter.format(country, name))"
   ]
  },
  {
   "cell_type": "code",
   "execution_count": 7,
   "metadata": {},
   "outputs": [
    {
     "name": "stdout",
     "output_type": "stream",
     "text": [
      "Hey my name is Aayush and I am from India\n"
     ]
    }
   ],
   "source": [
    "print(letter.format(country, name))"
   ]
  },
  {
   "cell_type": "code",
   "execution_count": 8,
   "metadata": {},
   "outputs": [
    {
     "name": "stdout",
     "output_type": "stream",
     "text": [
      "hey my name is Aayush and I am from India\n"
     ]
    }
   ],
   "source": [
    "# alternative\n",
    "letter=\"Hey my name is {0} and I am from {1}\"\n",
    "country= \"India\"\n",
    "name= \"Aayush\"\n",
    "print(f\"hey my name is {name} and I am from {country}\")"
   ]
  },
  {
   "cell_type": "code",
   "execution_count": 17,
   "metadata": {},
   "outputs": [
    {
     "name": "stdout",
     "output_type": "stream",
     "text": [
      "for only 43.000000 dollars!\n"
     ]
    }
   ],
   "source": [
    "txt = \"for only {price:2f} dollars!\"\n",
    "print(txt.format(price= 43.0))"
   ]
  },
  {
   "cell_type": "code",
   "execution_count": 18,
   "metadata": {},
   "outputs": [
    {
     "name": "stdout",
     "output_type": "stream",
     "text": [
      "<class 'str'>\n"
     ]
    }
   ],
   "source": [
    "print(type(f\"(2*30)\"))"
   ]
  },
  {
   "cell_type": "code",
   "execution_count": null,
   "metadata": {},
   "outputs": [],
   "source": []
  }
 ],
 "metadata": {
  "kernelspec": {
   "display_name": "Python 3",
   "language": "python",
   "name": "python3"
  },
  "language_info": {
   "codemirror_mode": {
    "name": "ipython",
    "version": 3
   },
   "file_extension": ".py",
   "mimetype": "text/x-python",
   "name": "python",
   "nbconvert_exporter": "python",
   "pygments_lexer": "ipython3",
   "version": "3.11.5"
  }
 },
 "nbformat": 4,
 "nbformat_minor": 2
}
