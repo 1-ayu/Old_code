{
 "cells": [
  {
   "cell_type": "markdown",
   "metadata": {},
   "source": [
    "Virtual Environment\n",
    "\n",
    "A virtual environment is a took used to isolate specific Python environments on a single machine, allowing you to work on multiple projects with different dependencies and packages without conflicts. This can be especially useful when working on projects that have conflicting packafe versions or packages that are not commpatible with each other.\n",
    "\n",
    "To create a virtual environment in python, you can use the venv module that comes with python. Here's an example of how to create a virtual environment and activate it :\n",
    "\n"
   ]
  },
  {
   "cell_type": "markdown",
   "metadata": {},
   "source": [
    "# create a virtual environment\n",
    "python -m venv myenv\n",
    "\n",
    "# Activate the virtual environment (linux/macos)\n",
    "source myenv/bin/activate\n",
    "\n",
    "# Activate the virtual environment (windows)\n",
    "myenv\\Scripts\\activate.bat\n"
   ]
  },
  {
   "cell_type": "markdown",
   "metadata": {},
   "source": [
    "Once the virtual environment is activated, any packages that you install using pip will be installed in the virtual environment, rather than in the global Python environment. This allows you to have a seperate set of packages for each project, without affecting the packages installed in the global environment."
   ]
  },
  {
   "cell_type": "code",
   "execution_count": null,
   "metadata": {},
   "outputs": [],
   "source": []
  }
 ],
 "metadata": {
  "kernelspec": {
   "display_name": "Python 3",
   "language": "python",
   "name": "python3"
  },
  "language_info": {
   "codemirror_mode": {
    "name": "ipython",
    "version": 3
   },
   "file_extension": ".py",
   "mimetype": "text/x-python",
   "name": "python",
   "nbconvert_exporter": "python",
   "pygments_lexer": "ipython3",
   "version": "3.11.5"
  }
 },
 "nbformat": 4,
 "nbformat_minor": 2
}
