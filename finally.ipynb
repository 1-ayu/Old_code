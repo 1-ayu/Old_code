{
 "cells": [
  {
   "cell_type": "markdown",
   "metadata": {},
   "source": [
    "Finally Clause\n",
    "\n",
    "The finally code block is also a part of exception handling. When we handle exception using the try and except block, we can include finally block at the end. The finally block is always executed, so it is generally used for doing the concluding tasks like closing the resources or closing database connection or may be ending the program execution with a delightful message."
   ]
  },
  {
   "cell_type": "markdown",
   "metadata": {},
   "source": [
    "Ex."
   ]
  },
  {
   "cell_type": "code",
   "execution_count": 5,
   "metadata": {},
   "outputs": [
    {
     "name": "stdout",
     "output_type": "stream",
     "text": [
      "This will also print but finally will print anyhow no matter whether the program is working or not\n",
      "We are talking about finally as it is giving out the output\n"
     ]
    }
   ],
   "source": [
    "try:\n",
    "    # statements which could generate\n",
    "    # exceptions\n",
    "    a=[1,2]\n",
    "    print(a[4])\n",
    "except Exception as e:\n",
    "    print(\"This will also print but finally will print anyhow no matter whether the program is working or not\")\n",
    "finally: \n",
    "    print(\"We are talking about finally as it is giving out the output\")\n",
    "\n",
    "\n",
    "\n",
    "    "
   ]
  },
  {
   "cell_type": "code",
   "execution_count": null,
   "metadata": {},
   "outputs": [],
   "source": []
  }
 ],
 "metadata": {
  "kernelspec": {
   "display_name": "Python 3",
   "language": "python",
   "name": "python3"
  },
  "language_info": {
   "codemirror_mode": {
    "name": "ipython",
    "version": 3
   },
   "file_extension": ".py",
   "mimetype": "text/x-python",
   "name": "python",
   "nbconvert_exporter": "python",
   "pygments_lexer": "ipython3",
   "version": "3.11.5"
  }
 },
 "nbformat": 4,
 "nbformat_minor": 2
}
