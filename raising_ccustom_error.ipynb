{
 "cells": [
  {
   "cell_type": "markdown",
   "metadata": {},
   "source": [
    "Raising Custom Errors\n",
    "\n",
    "In python, we can raise custim errors by using the 'raise' keyword."
   ]
  },
  {
   "cell_type": "markdown",
   "metadata": {},
   "source": [
    "In the previous classes,, we learned about the different built-in exceptions in Python and why it is important to handle exceptions. However, sometimes we may need to create our own custom excpetions that serve our purpose."
   ]
  },
  {
   "cell_type": "code",
   "execution_count": 7,
   "metadata": {},
   "outputs": [
    {
     "ename": "ValueError",
     "evalue": "Value should be between 5 and 9",
     "output_type": "error",
     "traceback": [
      "\u001b[1;31m---------------------------------------------------------------------------\u001b[0m",
      "\u001b[1;31mValueError\u001b[0m                                Traceback (most recent call last)",
      "Cell \u001b[1;32mIn[7], line 4\u001b[0m\n\u001b[0;32m      1\u001b[0m a\u001b[38;5;241m=\u001b[39m \u001b[38;5;28mint\u001b[39m(\u001b[38;5;28minput\u001b[39m(\u001b[38;5;124m\"\u001b[39m\u001b[38;5;124mEnter any value between 5 and 9\u001b[39m\u001b[38;5;124m\"\u001b[39m))\n\u001b[0;32m      3\u001b[0m \u001b[38;5;28;01mif\u001b[39;00m(a\u001b[38;5;241m<\u001b[39m\u001b[38;5;241m5\u001b[39m \u001b[38;5;241m|\u001b[39m a\u001b[38;5;241m>\u001b[39m\u001b[38;5;241m9\u001b[39m):\n\u001b[1;32m----> 4\u001b[0m     \u001b[38;5;28;01mraise\u001b[39;00m \u001b[38;5;167;01mValueError\u001b[39;00m(\u001b[38;5;124m\"\u001b[39m\u001b[38;5;124mValue should be between 5 and 9\u001b[39m\u001b[38;5;124m\"\u001b[39m)\n\u001b[0;32m      5\u001b[0m     \u001b[38;5;167;01mValueError\u001b[39;00m\n",
      "\u001b[1;31mValueError\u001b[0m: Value should be between 5 and 9"
     ]
    }
   ],
   "source": [
    "a= int(input(\"Enter any value between 5 and 9\"))\n",
    " \n",
    "if(a<5 | a>9):\n",
    "    raise ValueError(\"Value should be between 5 and 9\")\n",
    "    ValueError"
   ]
  },
  {
   "cell_type": "markdown",
   "metadata": {},
   "source": [
    "Defining  Custom  Exceptions\n",
    "\n",
    "In python, we can define custom exceptions by creating a new class that is derived from the built-in exception class.\n",
    "\n",
    "Here's the syntax to define custom exceptions:\n",
    "\n",
    "class CustomError(Error):\n",
    "#   code...\n",
    "    pass\n",
    "\n",
    "try:\n",
    "   # code...\n",
    "except CustomError:\n",
    "   # code..."
   ]
  },
  {
   "cell_type": "markdown",
   "metadata": {},
   "source": [
    "This is useful because sometimes we might want to do something when a particular exception is raised. For example, sending an error report to the admin, calling an api etc."
   ]
  },
  {
   "cell_type": "code",
   "execution_count": 10,
   "metadata": {},
   "outputs": [
    {
     "name": "stdout",
     "output_type": "stream",
     "text": [
      "quit\n"
     ]
    }
   ],
   "source": [
    "a= str(input(\"Enter the word\"))\n",
    " \n",
    "if(a==\"quit\"):\n",
    "    print(a)\n",
    "else:\n",
    "    raise ValueError(\"This will give out the value error\")\n",
    "    ValueError"
   ]
  },
  {
   "cell_type": "code",
   "execution_count": null,
   "metadata": {},
   "outputs": [],
   "source": []
  }
 ],
 "metadata": {
  "kernelspec": {
   "display_name": "Python 3",
   "language": "python",
   "name": "python3"
  },
  "language_info": {
   "codemirror_mode": {
    "name": "ipython",
    "version": 3
   },
   "file_extension": ".py",
   "mimetype": "text/x-python",
   "name": "python",
   "nbconvert_exporter": "python",
   "pygments_lexer": "ipython3",
   "version": "3.11.5"
  }
 },
 "nbformat": 4,
 "nbformat_minor": 2
}
