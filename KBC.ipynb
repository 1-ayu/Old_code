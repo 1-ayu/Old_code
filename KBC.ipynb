{
 "cells": [
  {
   "cell_type": "markdown",
   "metadata": {},
   "source": [
    "My solution"
   ]
  },
  {
   "cell_type": "code",
   "execution_count": 6,
   "metadata": {},
   "outputs": [
    {
     "name": "stdout",
     "output_type": "stream",
     "text": [
      "Q1. Who is the prime minister of india.\n",
      "{'a': 'Rajeev Gandhi', 'b': 'Sonia Gandhi', 'c': 'Narendra Modi', 'd': 'Arvind Kejriwal'}\n",
      "You won 50,000\n"
     ]
    }
   ],
   "source": [
    "a=(\"Q1. Who is the prime minister of india.\")\n",
    "print(a)\n",
    "options={\"a\":\"Rajeev Gandhi\" , \"b\":\"Sonia Gandhi\" , \"c\":\"Narendra Modi\" , \"d\" : \"Arvind Kejriwal\"}\n",
    "print(options)\n",
    "p=str(input())\n",
    "if(p==\"c\"):\n",
    "    print(\"You won 50,000\")\n",
    "else:\n",
    "    print(\"You lose\")\n"
   ]
  },
  {
   "cell_type": "markdown",
   "metadata": {},
   "source": [
    "Harry Solution"
   ]
  },
  {
   "cell_type": "code",
   "execution_count": 13,
   "metadata": {},
   "outputs": [
    {
     "name": "stdout",
     "output_type": "stream",
     "text": [
      "\n",
      "\n",
      "Question for Rs. 1000\n",
      "a.h            b.i\n",
      "c.c            d.h\n",
      "Correct answer, you have won Rs. level[i]\n",
      "\n",
      "\n",
      "Question for Rs. 2000\n",
      "a.y            b.t\n",
      "c.h            d.o\n",
      "Correct answer, you have won Rs. level[i]\n",
      "\n",
      "\n",
      "Question for Rs. 3000\n",
      "a.r            b.e\n",
      "c.n            d.c\n",
      "Correct answer, you have won Rs. level[i]\n",
      "\n",
      "\n",
      "Question for Rs. 5000\n",
      "a.a            b.v\n",
      "c.a            d.s\n"
     ]
    },
    {
     "ename": "ValueError",
     "evalue": "invalid literal for int() with base 10: ''",
     "output_type": "error",
     "traceback": [
      "\u001b[1;31m---------------------------------------------------------------------------\u001b[0m",
      "\u001b[1;31mValueError\u001b[0m                                Traceback (most recent call last)",
      "Cell \u001b[1;32mIn[13], line 28\u001b[0m\n\u001b[0;32m     26\u001b[0m \u001b[38;5;28mprint\u001b[39m(\u001b[38;5;124mf\u001b[39m\u001b[38;5;124m\"\u001b[39m\u001b[38;5;124ma.\u001b[39m\u001b[38;5;132;01m{\u001b[39;00mquestion[i][\u001b[38;5;241m1\u001b[39m]\u001b[38;5;132;01m}\u001b[39;00m\u001b[38;5;124m            b.\u001b[39m\u001b[38;5;132;01m{\u001b[39;00mquestion[i][\u001b[38;5;241m2\u001b[39m]\u001b[38;5;132;01m}\u001b[39;00m\u001b[38;5;124m\"\u001b[39m)\n\u001b[0;32m     27\u001b[0m \u001b[38;5;28mprint\u001b[39m(\u001b[38;5;124mf\u001b[39m\u001b[38;5;124m\"\u001b[39m\u001b[38;5;124mc.\u001b[39m\u001b[38;5;132;01m{\u001b[39;00mquestion[i][\u001b[38;5;241m3\u001b[39m]\u001b[38;5;132;01m}\u001b[39;00m\u001b[38;5;124m            d.\u001b[39m\u001b[38;5;132;01m{\u001b[39;00mquestion[i][\u001b[38;5;241m4\u001b[39m]\u001b[38;5;132;01m}\u001b[39;00m\u001b[38;5;124m\"\u001b[39m)\n\u001b[1;32m---> 28\u001b[0m reply\u001b[38;5;241m=\u001b[39m\u001b[38;5;28;43mint\u001b[39;49m\u001b[43m(\u001b[49m\u001b[38;5;28;43minput\u001b[39;49m\u001b[43m(\u001b[49m\u001b[38;5;124;43m\"\u001b[39;49m\u001b[38;5;124;43mEnter your answer \u001b[39;49m\u001b[38;5;124;43m{\u001b[39;49m\u001b[38;5;124;43m1-4} or 0 to quit\u001b[39;49m\u001b[38;5;124;43m\"\u001b[39;49m\u001b[43m)\u001b[49m\u001b[43m)\u001b[49m\n\u001b[0;32m     29\u001b[0m \u001b[38;5;28;01mif\u001b[39;00m(reply\u001b[38;5;241m==\u001b[39m\u001b[38;5;241m0\u001b[39m):\n\u001b[0;32m     30\u001b[0m     monwy\u001b[38;5;241m=\u001b[39m levels[i\u001b[38;5;241m-\u001b[39m\u001b[38;5;241m1\u001b[39m]\n",
      "\u001b[1;31mValueError\u001b[0m: invalid literal for int() with base 10: ''"
     ]
    }
   ],
   "source": [
    "questions =[\n",
    "    [\"which langauge was used to create facebook?\", \"python\", \"French\", \"Javascript\",\"Php\",\"None\",4],\n",
    "    [\"which langauge was used to create facebook?\", \"python\", \"French\", \"Javascript\",\"Php\",\"None\",4],\n",
    "    [\"which langauge was used to create facebook?\", \"python\", \"French\", \"Javascript\",\"Php\",\"None\",4],\n",
    "    [\"which langauge was used to create facebook?\", \"python\", \"French\", \"Javascript\",\"Php\",\"None\",4],\n",
    "    [\"which langauge was used to create facebook?\", \"python\", \"French\", \"Javascript\",\"Php\",\"None\",4],\n",
    "    [\"which langauge was used to create facebook?\", \"python\", \"French\", \"Javascript\",\"Php\",\"None\",4],\n",
    "    [\"which langauge was used to create facebook?\", \"python\", \"French\", \"Javascript\",\"Php\",\"None\",4],\n",
    "    [\"which langauge was used to create facebook?\", \"python\", \"French\", \"Javascript\",\"Php\",\"None\",4],\n",
    "    [\"which langauge was used to create facebook?\", \"python\", \"French\", \"Javascript\",\"Php\",\"None\",4],\n",
    "    [\"which langauge was used to create facebook?\", \"python\", \"French\", \"Javascript\",\"Php\",\"None\",4],\n",
    "    [\"which langauge was used to create facebook?\", \"python\", \"French\", \"Javascript\",\"Php\",\"None\",4],\n",
    "    [\"which langauge was used to create facebook?\", \"python\", \"French\", \"Javascript\",\"Php\",\"None\",4],\n",
    "    [\"which langauge was used to create facebook?\", \"python\", \"French\", \"Javascript\",\"Php\",\"None\",4],\n",
    "    [\"which langauge was used to create facebook?\", \"python\", \"French\", \"Javascript\",\"Php\",\"None\",4],\n",
    "    [\"which langauge was used to create facebook?\", \"python\", \"French\", \"Javascript\",\"Php\",\"None\",4],\n",
    "    [\"which langauge was used to create facebook?\", \"python\", \"French\", \"Javascript\",\"Php\",\"None\",4],\n",
    "    [\"which langauge was used to create facebook?\", \"python\", \"French\", \"Javascript\",\"Php\",\"None\",4],\n",
    "    [\"which langauge was used to create facebook?\", \"python\", \"French\", \"Javascript\",\"Php\",\"None\",4],\n",
    "    ]\n",
    "levels=[1000,2000,3000,5000,10000,20000,40000,80000,160000,320000]\n",
    "money=0\n",
    "for i in range(0,len(questions)):\n",
    "    question=questions[i]\n",
    "    print(f\"\\n\\nQuestion for Rs. {levels[i]}\")\n",
    "    print(f\"a.{question[i][1]}            b.{question[i][2]}\")\n",
    "    print(f\"c.{question[i][3]}            d.{question[i][4]}\")\n",
    "    reply=int(input(\"Enter your answer {1-4} or 0 to quit\"))\n",
    "    if(reply==0):\n",
    "        monwy= levels[i-1]\n",
    "        break\n",
    "    if(reply==question[-1]):\n",
    "        print(f\"Correct answer, you have won Rs. level[i]\")\n",
    "        if(i==4):\n",
    "            money=10000\n",
    "        elif(i==9):\n",
    "            money=320000\n",
    "        elif(i==14):\n",
    "            money= 10000000\n",
    "            \n",
    "    else:\n",
    "        print(\"Wrong answer\")\n",
    "        break\n",
    "print(\"Your take home money is {money}\")\n"
   ]
  },
  {
   "cell_type": "code",
   "execution_count": null,
   "metadata": {},
   "outputs": [],
   "source": []
  }
 ],
 "metadata": {
  "kernelspec": {
   "display_name": "Python 3",
   "language": "python",
   "name": "python3"
  },
  "language_info": {
   "codemirror_mode": {
    "name": "ipython",
    "version": 3
   },
   "file_extension": ".py",
   "mimetype": "text/x-python",
   "name": "python",
   "nbconvert_exporter": "python",
   "pygments_lexer": "ipython3",
   "version": "3.11.5"
  }
 },
 "nbformat": 4,
 "nbformat_minor": 2
}
